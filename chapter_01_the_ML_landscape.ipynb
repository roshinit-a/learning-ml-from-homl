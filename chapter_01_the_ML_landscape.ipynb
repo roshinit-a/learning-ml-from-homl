{
 "cells": [
  {
   "cell_type": "code",
   "execution_count": 1,
   "id": "5f4f97a2",
   "metadata": {},
   "outputs": [
    {
     "name": "stdout",
     "output_type": "stream",
     "text": [
      "Let's learn machine learning\n"
     ]
    }
   ],
   "source": [
    "print(\"Let's learn machine learning\")"
   ]
  },
  {
   "cell_type": "code",
   "execution_count": 2,
   "id": "53c4f620",
   "metadata": {},
   "outputs": [
    {
     "name": "stdout",
     "output_type": "stream",
     "text": [
      "this is for testing if everything is file while uploading to github\n"
     ]
    }
   ],
   "source": [
    "print(\"this is for testing if everything is file while uploading to github\")"
   ]
  },
  {
   "cell_type": "code",
   "execution_count": 1,
   "id": "113423df",
   "metadata": {},
   "outputs": [
    {
     "name": "stdout",
     "output_type": "stream",
     "text": [
      "testing third line\n"
     ]
    }
   ],
   "source": [
    "print(\"testing third line\")"
   ]
  },
  {
   "cell_type": "code",
   "execution_count": null,
   "id": "adb714db",
   "metadata": {},
   "outputs": [],
   "source": []
  }
 ],
 "metadata": {
  "kernelspec": {
   "display_name": "ml_env (3.11.13)",
   "language": "python",
   "name": "python3"
  },
  "language_info": {
   "codemirror_mode": {
    "name": "ipython",
    "version": 3
   },
   "file_extension": ".py",
   "mimetype": "text/x-python",
   "name": "python",
   "nbconvert_exporter": "python",
   "pygments_lexer": "ipython3",
   "version": "3.11.13"
  }
 },
 "nbformat": 4,
 "nbformat_minor": 5
}
